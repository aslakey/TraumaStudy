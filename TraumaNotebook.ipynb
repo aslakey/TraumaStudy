{
 "cells": [
  {
   "cell_type": "markdown",
   "metadata": {},
   "source": [
    "### Statistical Analysis from <i>Penetrating Abdominal Trauma with Hollow Viscus Injury: Infectious Risks Revisited<i/>\n",
    "\n",
    "David T. Pointer Jr, MD, Lili E. Schindelar, BS, Matthew D. Zelhart, MD, Zaid Al-Qurayshi, MD, MPH, Douglas P. Slakey, MD, MPH, FACS, Ronald L. Nichols, MD, MS, FACS\n",
    "\n",
    "Department of Surgery, Tulane University School of Medicine, New Orleans, LA, USA\n",
    "\n",
    "**Background:** <i> Surgical site infections (SSI) have a great impact on morbidity and mortality in the surgical patient. The Eastern Association for the Surgery of Trauma has established guidelines for the use of prophylactic antibiotics in penetrating abdominal trauma. We aimed to determine SSI associated risk factors in patients sustaining penetrating abdominal trauma with hollow viscus injury, analyze perioperative antibiotic type and administration, and determine adherence to recommended guidelines.<i/>"
   ]
  },
  {
   "cell_type": "code",
   "execution_count": 108,
   "metadata": {
    "collapsed": false
   },
   "outputs": [
    {
     "data": {
      "text/plain": [
       "Index(['id', 'mrn', 'act_no', 'admit_date', 'age', 'gender', 'wt', 'race',\n",
       "       'inj_type', 'inj_site', 'sbp', 'dbp', 'rr', 'pr', 'o2', 'gcs', 'shock',\n",
       "       'dispos', 'proc_date', 'time', 'inj_org', 'Bld_unit', 'ostomy', 'wound',\n",
       "       'antibio', 'dose1', 'day1', 'day2', 'day_beyond', 'ssi', 'ssi_org',\n",
       "       'absc', 'absc_org', 'pneu', 'septic', 'sept_org', 'cdiff', 'inf2',\n",
       "       'died', 'comp', 'los', 'infprop', 'survprop', 'survival'],\n",
       "      dtype='object')"
      ]
     },
     "execution_count": 108,
     "metadata": {},
     "output_type": "execute_result"
    }
   ],
   "source": [
    "import pandas as pd\n",
    "import numpy as np\n",
    "\n",
    "#import cleaned data and check the data/column names\n",
    "df = pd.read_csv(\"trauma_cleaned.csv\")\n",
    "#df.describe()\n",
    "#make this more intuitive\n",
    "df['survival'] = df.died == 1\n",
    "df.keys()"
   ]
  },
  {
   "cell_type": "markdown",
   "metadata": {},
   "source": [
    "### VAC Patients\n",
    "Was there a significant difference between group 3 and groups 1 and 2 for the following:\n",
    "* SSI (ssi = 'Y')\n",
    "* Abscess (absc = 'Y')\n",
    "* Sepsis (septic = 'Y')\n",
    "* c diff infection (cdiff = 'Y')\n",
    "* Survival (survival = True)\n",
    "* Days in Hospital (sol is a continuous variable, use student's T-test)\n"
   ]
  },
  {
   "cell_type": "code",
   "execution_count": 109,
   "metadata": {
    "collapsed": false
   },
   "outputs": [
    {
     "name": "stdout",
     "output_type": "stream",
     "text": [
      "VAC (wound = True) vs SSI (True)\n",
      "wound  False  True \n",
      "ssi                \n",
      "False    102     41\n",
      "True      15     20\n",
      "p-value:  0.00253025884135\n",
      "____________________\n",
      "VAC (wound = True) vs Abscess (True)\n",
      "wound  False  True \n",
      "absc               \n",
      "False     99     38\n",
      "True      18     23\n",
      "p-value:  0.00128251397465\n",
      "____________________\n",
      "VAC (wound = True) vs Sepsis (True)\n",
      "wound   False  True \n",
      "septic              \n",
      "False     110     49\n",
      "True        7     12\n",
      "p-value:  0.00892667579243\n",
      "____________________\n",
      "VAC (wound = True) vs c diff Infection (True)\n",
      "wound  False  True \n",
      "cdiff              \n",
      "False    116     57\n",
      "True       1      4\n",
      "p-value:  0.047621479644\n",
      "____________________\n",
      "VAC (wound = True) vs Survival (True)\n",
      "wound     False  True \n",
      "survival              \n",
      "False         5      8\n",
      "True        112     53\n",
      "p-value:  0.0638045652007\n",
      "____________________\n",
      "Average Days in the Hospital per Wound Type (VAC = 3)\n",
      "wound\n",
      "1.0    11.043103\n",
      "2.0    12.000000\n",
      "3.0    36.737705\n",
      "Name: los, dtype: float64\n",
      "p_value:  3.80444095127e-09\n"
     ]
    }
   ],
   "source": [
    "from scipy.stats import fisher_exact\n",
    "from scipy.stats import ttest_ind\n",
    "\n",
    "#VAC patients from wound = 3\n",
    "#VAC vs SSI\n",
    "table = pd.crosstab(df.ssi =='Y',df.wound == 3)\n",
    "print(\"VAC (wound = True) vs SSI (True)\")\n",
    "print(table)\n",
    "print(\"p-value: \", fisher_exact(table)[1])\n",
    "print(\"____________________\")\n",
    "\n",
    "#VAC vs Abscess\n",
    "print(\"VAC (wound = True) vs Abscess (True)\")\n",
    "table = pd.crosstab(df.absc =='Y',df.wound == 3)\n",
    "print(table)\n",
    "print(\"p-value: \", fisher_exact(table)[1])\n",
    "print(\"____________________\")\n",
    "\n",
    "#VAC vs Sepsis\n",
    "print(\"VAC (wound = True) vs Sepsis (True)\")\n",
    "table = pd.crosstab(df.septic =='Y',df.wound == 3)\n",
    "print(table)\n",
    "print(\"p-value: \", fisher_exact(table)[1])\n",
    "print(\"____________________\")\n",
    "\n",
    "#VAC vs c diff Infection\n",
    "print(\"VAC (wound = True) vs c diff Infection (True)\")\n",
    "table = pd.crosstab(df.cdiff =='Y',df.wound == 3)\n",
    "print(table)\n",
    "print(\"p-value: \", fisher_exact(table)[1])\n",
    "print(\"____________________\")\n",
    "\n",
    "#VAC vs Survival\n",
    "print(\"VAC (wound = True) vs Survival (True)\")\n",
    "table = pd.crosstab(df.survival ==True,df.wound == 3)\n",
    "print(table)\n",
    "print(\"p-value: \", fisher_exact(table)[1])\n",
    "print(\"____________________\")\n",
    "\n",
    "\n",
    "#VAC vs Days in Hospital\n",
    "vac = df[df['wound']==3]\n",
    "non_vac = df[df['wound']!=3]\n",
    "print(\"Average Days in the Hospital per Wound Type (VAC = 3)\")\n",
    "print(pd.pivot_table(df, values='los', columns=['wound']))\n",
    "print(\"p_value: \",ttest_ind(vac['los'], non_vac['los'])[1])\n"
   ]
  },
  {
   "cell_type": "markdown",
   "metadata": {},
   "source": [
    "Wound type is statistically significant in all of the above cases. However, at 95% confidence, we cannot reject the null hypothesis for survival.\n",
    "\n",
    "### SSI superficial vs Abscess   \n",
    "Was there a difference between superficial Surgical Site Infections vs Abscess in the following:\n",
    "*\tSurvival  (survival = True)\n",
    "*\tSepsis (septic = 'Y') <br> <br>\n",
    "Note: Superficial SSI is denoted by ssi = 'Y' AND absc = 'N'; Abscess denoted by absc = 'Y'"
   ]
  },
  {
   "cell_type": "code",
   "execution_count": 111,
   "metadata": {
    "collapsed": false
   },
   "outputs": [
    {
     "name": "stdout",
     "output_type": "stream",
     "text": [
      "  ssi absc superficial_ssi\n",
      "0   Y    Y               a\n",
      "1   Y    N               s\n",
      "2   N    N           other\n",
      "3   N    N           other\n",
      "4   N    N           other\n",
      "\n",
      "\n",
      "Now we are only looking at 62 patients\n",
      "\n",
      "\n",
      "Superficial SSI (s_vs_a = True) vs Survival (True)\n",
      "superficial_ssi  False  True \n",
      "survival                     \n",
      "False                0      2\n",
      "True                41     19\n",
      "p-value:  0.111052353252\n",
      "____________________\n",
      "Superficial SSI (s_vs_a = True) vs Sepsis (True)\n",
      "superficial_ssi  False  True \n",
      "septic                       \n",
      "False               33     15\n",
      "True                 8      6\n",
      "p-value:  0.524092004229\n",
      "______________________\n"
     ]
    }
   ],
   "source": [
    "def sssi_vs_abscess (row):\n",
    "    if row['ssi'] == 'Y' and row['absc'] == 'N':\n",
    "        return 's'\n",
    "    if row['absc'] == 'Y':\n",
    "        return 'a'\n",
    "    return 'other'\n",
    "df['superficial_ssi'] = df.apply (lambda row: sssi_vs_abscess(row),axis=1)\n",
    "\n",
    "#make sure that worked\n",
    "print(df[['ssi','absc','superficial_ssi']].head()) #nice :)\n",
    "\n",
    "sub_df = df[df.superficial_ssi != 'other']\n",
    "print(\"\\n\")\n",
    "print(\"Now we are only looking at \" + str(len(sub_df)) + \" patients\")\n",
    "print(\"\\n\")\n",
    "\n",
    "#Superficial SSI vs Survival\n",
    "print(\"Superficial SSI (s_vs_a = True) vs Survival (True)\")\n",
    "table = pd.crosstab(sub_df.survival ==True,sub_df.superficial_ssi == 's')\n",
    "print(table)\n",
    "print(\"p-value: \", fisher_exact(table)[1])\n",
    "print(\"____________________\")\n",
    "\n",
    "#Superficial SSI vs Sepsis\n",
    "print(\"Superficial SSI (s_vs_a = True) vs Sepsis (True)\")\n",
    "table = pd.crosstab(sub_df.septic =='Y',sub_df.superficial_ssi == 's')\n",
    "print(table)\n",
    "print(\"p-value: \", fisher_exact(table)[1])\n",
    "print(\"______________________\")\n"
   ]
  },
  {
   "cell_type": "markdown",
   "metadata": {},
   "source": [
    "Neither of these tests are statistically significant\n",
    "\n",
    "### Use of Antibiotics > 1 day vs. 1 day or less \n",
    "(Note: if a patient has **any** prescriptions for $2^+$ days then they are incuded in Antibiotics > 1 days)\n",
    "\n",
    "* SSI (ssi = 'Y')\n",
    "* Abscess (absc = 'Y')\n",
    "* Sepsis (septic = 'Y')\n",
    "* c diff infection (cdiff = 'Y')\n",
    "* Survival (survival = True)\n",
    "* Days in Hospital (sol is a continuous variable, use student's T-test)"
   ]
  },
  {
   "cell_type": "code",
   "execution_count": 113,
   "metadata": {
    "collapsed": false
   },
   "outputs": [
    {
     "name": "stdout",
     "output_type": "stream",
     "text": [
      "  dose1     day1 day2 day_beyond  days\n",
      "0   NaN  Mefoxin  NaN        NaN     1\n",
      "1   NaN  Mefoxin  NaN      Ancef     2\n",
      "2   NaN    Ancef  NaN        NaN     1\n",
      "3   NaN  Mefoxin  NaN        NaN     1\n",
      "4   NaN    Ancef  NaN    Mefoxin     2\n",
      "\n",
      "\n",
      "Antibiotics >1 days:  55\n",
      "Antibiotics 1 day:  123\n",
      "\n",
      "\n",
      "Taking these 4 patients who received no antibiotics out of the analysis:\n",
      "    dose1 day1 day2 day_beyond  days\n",
      "80    NaN  NaN  NaN        NaN     0\n",
      "106   NaN  NaN  NaN        NaN     0\n",
      "131   NaN  NaN  NaN        NaN     0\n",
      "167   NaN  NaN  NaN        NaN     0\n"
     ]
    }
   ],
   "source": [
    "boolean_df = df.isnull()\n",
    "\n",
    "def days (row):\n",
    "    if row['day2'] == False or row['day_beyond'] == False:\n",
    "        return 2\n",
    "    if row['dose1'] == False or row['day1'] == False:\n",
    "        return 1\n",
    "    return 0\n",
    "df['days'] = boolean_df.apply (lambda row: days(row),axis=1)\n",
    "\n",
    "#make sure that worked\n",
    "print(df[['dose1','day1','day2','day_beyond','days']].head()) #nice :)\n",
    "#quickly check how many patients in each group\n",
    "print(\"\\n\")\n",
    "print(\"Antibiotics >1 days: \",len(df[df.days==2]))\n",
    "print(\"Antibiotics 1 day: \",len(df[df.days!=2]))\n",
    "\n",
    "#4 patients did not receive antibiotics\n",
    "print(\"\\n\")\n",
    "print(\"Taking these 4 patients who received no antibiotics out of the analysis:\")\n",
    "print(df[['dose1','day1','day2','day_beyond','days']][df.days==0])\n",
    "#so take them out of analysis\n",
    "anti_df = df[df.days!=0]"
   ]
  },
  {
   "cell_type": "code",
   "execution_count": 114,
   "metadata": {
    "collapsed": false
   },
   "outputs": [
    {
     "name": "stdout",
     "output_type": "stream",
     "text": [
      "Days (days = True means 2+ days) vs SSI (True)\n",
      "days   False  True \n",
      "ssi                \n",
      "False    101     38\n",
      "True      18     17\n",
      "p-value:  0.0242178939665\n",
      "____________________\n",
      "Days (days = True means 2+ days) vs Abscess (True)\n",
      "days   False  True \n",
      "absc               \n",
      "False     89     44\n",
      "True      30     11\n",
      "p-value:  0.565128440384\n",
      "____________________\n",
      "Days (days = True means 2+ days) vs Sepsis (True)\n",
      "days    False  True \n",
      "septic              \n",
      "False     111     44\n",
      "True        8     11\n",
      "p-value:  0.0163258999652\n",
      "____________________\n",
      "Days (days = True means 2+ days) vs c diff Infection (True)\n",
      "days   False  True \n",
      "cdiff              \n",
      "False    116     53\n",
      "True       3      2\n",
      "p-value:  0.651793652703\n",
      "____________________\n",
      "Days (days = True means 2+ days) vs Survival (True)\n",
      "days      False  True \n",
      "survival              \n",
      "False         9      3\n",
      "True        110     52\n",
      "p-value:  0.754807000371\n",
      "____________________\n",
      "Average Days in the Hospital per Group (days = 2+ vs days = 1)\n",
      "days\n",
      "1    16.302521\n",
      "2    28.545455\n",
      "Name: los, dtype: float64\n",
      "p_value:  3.80444095127e-09\n"
     ]
    }
   ],
   "source": [
    "#Days vs SSI\n",
    "table = pd.crosstab(anti_df.ssi =='Y',anti_df.days == 2)\n",
    "print(\"Days (days = True means 2+ days) vs SSI (True)\")\n",
    "print(table)\n",
    "print(\"p-value: \", fisher_exact(table)[1])\n",
    "print(\"____________________\")\n",
    "\n",
    "#Days vs Abscess\n",
    "print(\"Days (days = True means 2+ days) vs Abscess (True)\")\n",
    "table = pd.crosstab(anti_df.absc =='Y',anti_df.days == 2)\n",
    "print(table)\n",
    "print(\"p-value: \", fisher_exact(table)[1])\n",
    "print(\"____________________\")\n",
    "\n",
    "#Days vs Sepsis\n",
    "print(\"Days (days = True means 2+ days) vs Sepsis (True)\")\n",
    "table = pd.crosstab(anti_df.septic =='Y',anti_df.days == 2)\n",
    "print(table)\n",
    "print(\"p-value: \", fisher_exact(table)[1])\n",
    "print(\"____________________\")\n",
    "\n",
    "#Days vs c diff Infection\n",
    "print(\"Days (days = True means 2+ days) vs c diff Infection (True)\")\n",
    "table = pd.crosstab(anti_df.cdiff =='Y',anti_df.days == 2)\n",
    "print(table)\n",
    "print(\"p-value: \", fisher_exact(table)[1])\n",
    "print(\"____________________\")\n",
    "\n",
    "#Days vs Survival\n",
    "print(\"Days (days = True means 2+ days) vs Survival (True)\")\n",
    "table = pd.crosstab(anti_df.survival ==True,anti_df.days == 2)\n",
    "print(table)\n",
    "print(\"p-value: \", fisher_exact(table)[1])\n",
    "print(\"____________________\")\n",
    "\n",
    "\n",
    "#Days vs Days in Hospital\n",
    "multiple = anti_df[anti_df['days']==2]\n",
    "one = anti_df[anti_df['days']==1]\n",
    "print(\"Average Days in the Hospital per Group (days = 2+ vs days = 1)\")\n",
    "print(pd.pivot_table(anti_df, values='los', columns=['days']))\n",
    "print(\"p_value: \",ttest_ind(vac['los'], non_vac['los'])[1])"
   ]
  },
  {
   "cell_type": "markdown",
   "metadata": {},
   "source": [
    "The two tests here that are significant are Sepsis and SSI (patients with only one dose/day of antibiotics are associated with fewer cases of Sepsis and SSI).\n"
   ]
  }
 ],
 "metadata": {
  "anaconda-cloud": {},
  "kernelspec": {
   "display_name": "Python [Root]",
   "language": "python",
   "name": "Python [Root]"
  },
  "language_info": {
   "codemirror_mode": {
    "name": "ipython",
    "version": 3
   },
   "file_extension": ".py",
   "mimetype": "text/x-python",
   "name": "python",
   "nbconvert_exporter": "python",
   "pygments_lexer": "ipython3",
   "version": "3.5.2"
  }
 },
 "nbformat": 4,
 "nbformat_minor": 0
}
