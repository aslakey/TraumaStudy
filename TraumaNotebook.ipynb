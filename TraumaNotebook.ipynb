{
 "cells": [
  {
   "cell_type": "markdown",
   "metadata": {},
   "source": [
    "### Statistical Analysis from <i>Penetrating Abdominal Trauma with Hollow Viscus Injury: Infectious Risks Revisited<i/>\n",
    "\n",
    "David T. Pointer Jr, MD, Lili E. Schindelar, BS, Matthew D. Zelhart, MD, Zaid Al-Qurayshi, MD, MPH, Douglas P. Slakey, MD, MPH, FACS, Ronald L. Nichols, MD, MS, FACS\n",
    "\n",
    "Department of Surgery, Tulane University School of Medicine, New Orleans, LA, USA\n",
    "\n",
    "**Background:** <i> Surgical site infections (SSI) have a great impact on morbidity and mortality in the surgical patient. The Eastern Association for the Surgery of Trauma has established guidelines for the use of prophylactic antibiotics in penetrating abdominal trauma. We aimed to determine SSI associated risk factors in patients sustaining penetrating abdominal trauma with hollow viscus injury, analyze perioperative antibiotic type and administration, and determine adherence to recommended guidelines.<i/>"
   ]
  },
  {
   "cell_type": "code",
   "execution_count": 108,
   "metadata": {
    "collapsed": false
   },
   "outputs": [
    {
     "data": {
      "text/plain": [
       "Index(['id', 'mrn', 'act_no', 'admit_date', 'age', 'gender', 'wt', 'race',\n",
       "       'inj_type', 'inj_site', 'sbp', 'dbp', 'rr', 'pr', 'o2', 'gcs', 'shock',\n",
       "       'dispos', 'proc_date', 'time', 'inj_org', 'Bld_unit', 'ostomy', 'wound',\n",
       "       'antibio', 'dose1', 'day1', 'day2', 'day_beyond', 'ssi', 'ssi_org',\n",
       "       'absc', 'absc_org', 'pneu', 'septic', 'sept_org', 'cdiff', 'inf2',\n",
       "       'died', 'comp', 'los', 'infprop', 'survprop', 'survival'],\n",
       "      dtype='object')"
      ]
     },
     "execution_count": 108,
     "metadata": {},
     "output_type": "execute_result"
    }
   ],
   "source": [
    "import pandas as pd\n",
    "import numpy as np\n",
    "\n",
    "#import cleaned data and check the data/column names\n",
    "df = pd.read_csv(\"trauma_cleaned.csv\")\n",
    "#df.describe()\n",
    "#make this more intuitive\n",
    "df['survival'] = df.died == 1\n",
    "df.keys()"
   ]
  },
  {
   "cell_type": "markdown",
   "metadata": {},
   "source": [
    "### VAC Patients\n",
    "Was there a significant difference between group 3 and groups 1 and 2 for the following:\n",
    "* SSI (ssi = 'Y')\n",
    "* Abscess (absc = 'Y')\n",
    "* Sepsis (septic = 'Y')\n",
    "* c diff infection (cdiff = 'Y')\n",
    "* Survival (survival = True)\n",
    "* Days in Hospital (sol is a continuous variable, use student's T-test)\n"
   ]
  },
  {
   "cell_type": "code",
   "execution_count": 109,
   "metadata": {
    "collapsed": false
   },
   "outputs": [
    {
     "name": "stdout",
     "output_type": "stream",
     "text": [
      "VAC (wound = True) vs SSI (True)\n",
      "wound  False  True \n",
      "ssi                \n",
      "False    102     41\n",
      "True      15     20\n",
      "p-value:  0.00253025884135\n",
      "____________________\n",
      "VAC (wound = True) vs Abscess (True)\n",
      "wound  False  True \n",
      "absc               \n",
      "False     99     38\n",
      "True      18     23\n",
      "p-value:  0.00128251397465\n",
      "____________________\n",
      "VAC (wound = True) vs Sepsis (True)\n",
      "wound   False  True \n",
      "septic              \n",
      "False     110     49\n",
      "True        7     12\n",
      "p-value:  0.00892667579243\n",
      "____________________\n",
      "VAC (wound = True) vs c diff Infection (True)\n",
      "wound  False  True \n",
      "cdiff              \n",
      "False    116     57\n",
      "True       1      4\n",
      "p-value:  0.047621479644\n",
      "____________________\n",
      "VAC (wound = True) vs Survival (True)\n",
      "wound     False  True \n",
      "survival              \n",
      "False         5      8\n",
      "True        112     53\n",
      "p-value:  0.0638045652007\n",
      "____________________\n",
      "Average Days in the Hospital per Wound Type (VAC = 3)\n",
      "wound\n",
      "1.0    11.043103\n",
      "2.0    12.000000\n",
      "3.0    36.737705\n",
      "Name: los, dtype: float64\n",
      "p_value:  3.80444095127e-09\n"
     ]
    }
   ],
   "source": [
    "from scipy.stats import fisher_exact\n",
    "from scipy.stats import ttest_ind\n",
    "\n",
    "#VAC patients from wound = 3\n",
    "#VAC vs SSI\n",
    "table = pd.crosstab(df.ssi =='Y',df.wound == 3)\n",
    "print(\"VAC (wound = True) vs SSI (True)\")\n",
    "print(table)\n",
    "print(\"p-value: \", fisher_exact(table)[1])\n",
    "print(\"____________________\")\n",
    "\n",
    "#VAC vs Abscess\n",
    "print(\"VAC (wound = True) vs Abscess (True)\")\n",
    "table = pd.crosstab(df.absc =='Y',df.wound == 3)\n",
    "print(table)\n",
    "print(\"p-value: \", fisher_exact(table)[1])\n",
    "print(\"____________________\")\n",
    "\n",
    "#VAC vs Sepsis\n",
    "print(\"VAC (wound = True) vs Sepsis (True)\")\n",
    "table = pd.crosstab(df.septic =='Y',df.wound == 3)\n",
    "print(table)\n",
    "print(\"p-value: \", fisher_exact(table)[1])\n",
    "print(\"____________________\")\n",
    "\n",
    "#VAC vs c diff Infection\n",
    "print(\"VAC (wound = True) vs c diff Infection (True)\")\n",
    "table = pd.crosstab(df.cdiff =='Y',df.wound == 3)\n",
    "print(table)\n",
    "print(\"p-value: \", fisher_exact(table)[1])\n",
    "print(\"____________________\")\n",
    "\n",
    "#VAC vs Survival\n",
    "print(\"VAC (wound = True) vs Survival (True)\")\n",
    "table = pd.crosstab(df.survival ==True,df.wound == 3)\n",
    "print(table)\n",
    "print(\"p-value: \", fisher_exact(table)[1])\n",
    "print(\"____________________\")\n",
    "\n",
    "\n",
    "#VAC vs Days in Hospital\n",
    "vac = df[df['wound']==3]\n",
    "non_vac = df[df['wound']!=3]\n",
    "print(\"Average Days in the Hospital per Wound Type (VAC = 3)\")\n",
    "print(pd.pivot_table(df, values='los', columns=['wound']))\n",
    "print(\"p_value: \",ttest_ind(vac['los'], non_vac['los'])[1])\n"
   ]
  },
  {
   "cell_type": "markdown",
   "metadata": {},
   "source": [
    "Wound type is statistically significant in all of the above cases. However, at 95% confidence, we cannot reject the null hypothesis for survival.\n",
    "\n",
    "### SSI superficial vs Abscess   \n",
    "Was there a difference between superficial Surgical Site Infections vs Abscess in the following:\n",
    "*\tSurvival  (survival = True)\n",
    "*\tSepsis (septic = 'Y') <br> <br>\n",
    "Note: Superficial SSI is denoted by ssi = 'Y' AND absc = 'N'; Abscess denoted by absc = 'Y'"
   ]
  },
  {
   "cell_type": "code",
   "execution_count": 111,
   "metadata": {
    "collapsed": false
   },
   "outputs": [
    {
     "name": "stdout",
     "output_type": "stream",
     "text": [
      "  ssi absc superficial_ssi\n",
      "0   Y    Y               a\n",
      "1   Y    N               s\n",
      "2   N    N           other\n",
      "3   N    N           other\n",
      "4   N    N           other\n",
      "\n",
      "\n",
      "Now we are only looking at 62 patients\n",
      "\n",
      "\n",
      "Superficial SSI (s_vs_a = True) vs Survival (True)\n",
      "superficial_ssi  False  True \n",
      "survival                     \n",
      "False                0      2\n",
      "True                41     19\n",
      "p-value:  0.111052353252\n",
      "____________________\n",
      "Superficial SSI (s_vs_a = True) vs Sepsis (True)\n",
      "superficial_ssi  False  True \n",
      "septic                       \n",
      "False               33     15\n",
      "True                 8      6\n",
      "p-value:  0.524092004229\n",
      "______________________\n"
     ]
    }
   ],
   "source": [
    "def sssi_vs_abscess (row):\n",
    "    if row['ssi'] == 'Y' and row['absc'] == 'N':\n",
    "        return 's'\n",
    "    if row['absc'] == 'Y':\n",
    "        return 'a'\n",
    "    return 'other'\n",
    "df['superficial_ssi'] = df.apply (lambda row: sssi_vs_abscess(row),axis=1)\n",
    "\n",
    "#make sure that worked\n",
    "print(df[['ssi','absc','superficial_ssi']].head()) #nice :)\n",
    "\n",
    "sub_df = df[df.superficial_ssi != 'other']\n",
    "print(\"\\n\")\n",
    "print(\"Now we are only looking at \" + str(len(sub_df)) + \" patients\")\n",
    "print(\"\\n\")\n",
    "\n",
    "#Superficial SSI vs Survival\n",
    "print(\"Superficial SSI (s_vs_a = True) vs Survival (True)\")\n",
    "table = pd.crosstab(sub_df.survival ==True,sub_df.superficial_ssi == 's')\n",
    "print(table)\n",
    "print(\"p-value: \", fisher_exact(table)[1])\n",
    "print(\"____________________\")\n",
    "\n",
    "#Superficial SSI vs Sepsis\n",
    "print(\"Superficial SSI (s_vs_a = True) vs Sepsis (True)\")\n",
    "table = pd.crosstab(sub_df.septic =='Y',sub_df.superficial_ssi == 's')\n",
    "print(table)\n",
    "print(\"p-value: \", fisher_exact(table)[1])\n",
    "print(\"______________________\")\n"
   ]
  },
  {
   "cell_type": "markdown",
   "metadata": {},
   "source": [
    "Neither of these tests are statistically significant\n",
    "\n",
    "### Use of Antibiotics > 1 day vs. 1 day or less \n",
    "(Note: if a patient has **any** prescriptions for $2^+$ days then they are incuded in Antibiotics > 1 days)\n",
    "\n",
    "* SSI (ssi = 'Y')\n",
    "* Abscess (absc = 'Y')\n",
    "* Sepsis (septic = 'Y')\n",
    "* c diff infection (cdiff = 'Y')\n",
    "* Survival (survival = True)\n",
    "* Days in Hospital (sol is a continuous variable, use student's T-test)"
   ]
  },
  {
   "cell_type": "code",
   "execution_count": 113,
   "metadata": {
    "collapsed": false
   },
   "outputs": [
    {
     "name": "stdout",
     "output_type": "stream",
     "text": [
      "  dose1     day1 day2 day_beyond  days\n",
      "0   NaN  Mefoxin  NaN        NaN     1\n",
      "1   NaN  Mefoxin  NaN      Ancef     2\n",
      "2   NaN    Ancef  NaN        NaN     1\n",
      "3   NaN  Mefoxin  NaN        NaN     1\n",
      "4   NaN    Ancef  NaN    Mefoxin     2\n",
      "\n",
      "\n",
      "Antibiotics >1 days:  55\n",
      "Antibiotics 1 day:  123\n",
      "\n",
      "\n",
      "Taking these 4 patients who received no antibiotics out of the analysis:\n",
      "    dose1 day1 day2 day_beyond  days\n",
      "80    NaN  NaN  NaN        NaN     0\n",
      "106   NaN  NaN  NaN        NaN     0\n",
      "131   NaN  NaN  NaN        NaN     0\n",
      "167   NaN  NaN  NaN        NaN     0\n"
     ]
    }
   ],
   "source": [
    "boolean_df = df.isnull()\n",
    "\n",
    "def days (row):\n",
    "    if row['day2'] == False or row['day_beyond'] == False:\n",
    "        return 2\n",
    "    if row['dose1'] == False or row['day1'] == False:\n",
    "        return 1\n",
    "    return 0\n",
    "df['days'] = boolean_df.apply (lambda row: days(row),axis=1)\n",
    "\n",
    "#make sure that worked\n",
    "print(df[['dose1','day1','day2','day_beyond','days']].head()) #nice :)\n",
    "#quickly check how many patients in each group\n",
    "print(\"\\n\")\n",
    "print(\"Antibiotics >1 days: \",len(df[df.days==2]))\n",
    "print(\"Antibiotics 1 day: \",len(df[df.days!=2]))\n",
    "\n",
    "#4 patients did not receive antibiotics\n",
    "print(\"\\n\")\n",
    "print(\"Taking these 4 patients who received no antibiotics out of the analysis:\")\n",
    "print(df[['dose1','day1','day2','day_beyond','days']][df.days==0])\n",
    "#so take them out of analysis\n",
    "anti_df = df[df.days!=0]"
   ]
  },
  {
   "cell_type": "code",
   "execution_count": 114,
   "metadata": {
    "collapsed": false
   },
   "outputs": [
    {
     "name": "stdout",
     "output_type": "stream",
     "text": [
      "Days (days = True means 2+ days) vs SSI (True)\n",
      "days   False  True \n",
      "ssi                \n",
      "False    101     38\n",
      "True      18     17\n",
      "p-value:  0.0242178939665\n",
      "____________________\n",
      "Days (days = True means 2+ days) vs Abscess (True)\n",
      "days   False  True \n",
      "absc               \n",
      "False     89     44\n",
      "True      30     11\n",
      "p-value:  0.565128440384\n",
      "____________________\n",
      "Days (days = True means 2+ days) vs Sepsis (True)\n",
      "days    False  True \n",
      "septic              \n",
      "False     111     44\n",
      "True        8     11\n",
      "p-value:  0.0163258999652\n",
      "____________________\n",
      "Days (days = True means 2+ days) vs c diff Infection (True)\n",
      "days   False  True \n",
      "cdiff              \n",
      "False    116     53\n",
      "True       3      2\n",
      "p-value:  0.651793652703\n",
      "____________________\n",
      "Days (days = True means 2+ days) vs Survival (True)\n",
      "days      False  True \n",
      "survival              \n",
      "False         9      3\n",
      "True        110     52\n",
      "p-value:  0.754807000371\n",
      "____________________\n",
      "Average Days in the Hospital per Group (days = 2+ vs days = 1)\n",
      "days\n",
      "1    16.302521\n",
      "2    28.545455\n",
      "Name: los, dtype: float64\n",
      "p_value:  3.80444095127e-09\n"
     ]
    }
   ],
   "source": [
    "#Days vs SSI\n",
    "table = pd.crosstab(anti_df.ssi =='Y',anti_df.days == 2)\n",
    "print(\"Days (days = True means 2+ days) vs SSI (True)\")\n",
    "print(table)\n",
    "print(\"p-value: \", fisher_exact(table)[1])\n",
    "print(\"____________________\")\n",
    "\n",
    "#Days vs Abscess\n",
    "print(\"Days (days = True means 2+ days) vs Abscess (True)\")\n",
    "table = pd.crosstab(anti_df.absc =='Y',anti_df.days == 2)\n",
    "print(table)\n",
    "print(\"p-value: \", fisher_exact(table)[1])\n",
    "print(\"____________________\")\n",
    "\n",
    "#Days vs Sepsis\n",
    "print(\"Days (days = True means 2+ days) vs Sepsis (True)\")\n",
    "table = pd.crosstab(anti_df.septic =='Y',anti_df.days == 2)\n",
    "print(table)\n",
    "print(\"p-value: \", fisher_exact(table)[1])\n",
    "print(\"____________________\")\n",
    "\n",
    "#Days vs c diff Infection\n",
    "print(\"Days (days = True means 2+ days) vs c diff Infection (True)\")\n",
    "table = pd.crosstab(anti_df.cdiff =='Y',anti_df.days == 2)\n",
    "print(table)\n",
    "print(\"p-value: \", fisher_exact(table)[1])\n",
    "print(\"____________________\")\n",
    "\n",
    "#Days vs Survival\n",
    "print(\"Days (days = True means 2+ days) vs Survival (True)\")\n",
    "table = pd.crosstab(anti_df.survival ==True,anti_df.days == 2)\n",
    "print(table)\n",
    "print(\"p-value: \", fisher_exact(table)[1])\n",
    "print(\"____________________\")\n",
    "\n",
    "\n",
    "#Days vs Days in Hospital\n",
    "multiple = anti_df[anti_df['days']==2]\n",
    "one = anti_df[anti_df['days']==1]\n",
    "print(\"Average Days in the Hospital per Group (days = 2+ vs days = 1)\")\n",
    "print(pd.pivot_table(anti_df, values='los', columns=['days']))\n",
    "print(\"p_value: \",ttest_ind(vac['los'], non_vac['los'])[1])"
   ]
  },
  {
   "cell_type": "markdown",
   "metadata": {},
   "source": [
    "The two tests here that are significant are Sepsis and SSI (patients with only one dose/day of antibiotics are associated with fewer cases of Sepsis and SSI).\n"
   ]
  },
  {
   "cell_type": "markdown",
   "metadata": {},
   "source": [
    "# Recreating Analysis from Superficial SSI for all SSI\n",
    "1) Search for statistically significant variables following results in tables 3 <br>\n",
    "2) Perform Logistic regression on these variables (http://blog.yhat.com/posts/logistic-regression-and-python.html)"
   ]
  },
  {
   "cell_type": "code",
   "execution_count": 63,
   "metadata": {
    "collapsed": false
   },
   "outputs": [
    {
     "name": "stdout",
     "output_type": "stream",
     "text": [
      "178\n",
      "Keys:  Index(['id', 'mrn', 'act_no', 'admit_date', 'age', 'gender', 'wt', 'race',\n",
      "       'inj_type', 'inj_site', 'sbp', 'dbp', 'rr', 'pr', 'o2', 'gcs', 'shock',\n",
      "       'dispos', 'proc_date', 'time', 'inj_org', 'Bld_unit', 'ostomy', 'wound',\n",
      "       'antibio', 'dose1', 'day1', 'day2', 'day_beyond', 'ssi', 'ssi_org',\n",
      "       'absc', 'absc_org', 'pneu', 'septic', 'sept_org', 'cdiff', 'inf2',\n",
      "       'died', 'comp', 'los', 'infprop', 'survprop', 'survival'],\n",
      "      dtype='object')\n"
     ]
    }
   ],
   "source": [
    "import pandas as pd\n",
    "import numpy as np\n",
    "'''\n",
    "Prep data\n",
    "\n",
    "We want days of antibiotics and superficial ssi in the data set\n",
    "\n",
    "'''\n",
    "#import cleaned data and check the data/column names\n",
    "df = pd.read_csv(\"trauma_cleaned.csv\")\n",
    "print(len(df))\n",
    "\n",
    "df['survival'] = df.died == 1\n",
    "print(\"Keys: \",df.keys())\n",
    "\n",
    "#Create Superficial SSI Column\n",
    "def sssi_vs_abscess (row):\n",
    "    if row['ssi'] == 'Y' and row['absc'] == 'N':\n",
    "        return 1\n",
    "    if row['absc'] == 'Y':\n",
    "        return 0\n",
    "    return 0\n",
    "#superficial_ssi = 1 means it was superficial surgical site infection\n",
    "df['superficial_ssi'] = df.apply (lambda row: sssi_vs_abscess(row),axis=1)\n",
    "\n",
    "#returns True if entry is empty (so False means we dispensed an antibiotic)\n",
    "boolean_df = df.isnull()\n",
    "\n",
    "def days (row):\n",
    "    if row['day2'] == False or row['day_beyond'] == False:\n",
    "        return 1\n",
    "    if row['dose1'] == False or row['day1'] == False:\n",
    "        return 0\n",
    "    return 0\n",
    "df['2_plus_abdays'] = boolean_df.apply (lambda row: days(row),axis=1)\n",
    "\n",
    "\n",
    "'''\n",
    "Create other dummies:\n",
    "\n",
    "gender == 'Female'  (gender)\n",
    "injury type   (inj_type)\n",
    "hollow viscus injury (3 way table!) (inj_site)\n",
    "# injured organs (inj_org)\n",
    "Pulse         (pr)\n",
    "# blood units (Bld_unit)\n",
    "Length of Stay (los)\n",
    "VAC wound (wound == 3)\n",
    "Days of antibiotics (days == 2)\n",
    "'''\n",
    "df['dummy_ssi'] = df.ssi == 'Y'\n",
    "df['female'] = df['gender']=='Female'\n",
    "df['hollow_visc'] = df['inj_site'].str.contains(\"Colon\")\n",
    "df['gunshot'] = df['inj_type'] == 1\n",
    "df['3_plus_wounds'] = df['inj_org'] > 2\n",
    "df['120_plus_pulse'] = df['pr'] >= 120\n",
    "df['1_plus_blood'] = df['Bld_unit'] >= 1\n",
    "df['10_plus_days'] = df['los'] > 9\n",
    "df['vac'] = df['wound'] == 3"
   ]
  },
  {
   "cell_type": "code",
   "execution_count": 135,
   "metadata": {
    "collapsed": false
   },
   "outputs": [
    {
     "name": "stdout",
     "output_type": "stream",
     "text": [
      "los gt 9\n",
      "     OR       UC       LC       p_val\n",
      "-------  -------  -------  ----------\n",
      "7.40625  20.1829  2.71778  9.0237e-06\n"
     ]
    }
   ],
   "source": [
    "from scipy.stats import fisher_exact\n",
    "from tabulate import tabulate\n",
    "\n",
    "#----------------------Support functions -------------------------------------#\n",
    "#loop over this guy to find statistically significant variables\n",
    "def OR(df, superficial, reference, op, test):\n",
    "    '''\n",
    "    Input:\n",
    "        df - dataframe\n",
    "        superficial - Boolean (superficial vs. regular)\n",
    "        reference - column to test\n",
    "        op - valid operations {lt, gt, eq}\n",
    "        test - i.e. df.reference > test\n",
    "    Output:\n",
    "        table: OR UC LC P_value\n",
    "    '''\n",
    "    if op == \"lt\":\n",
    "        if superficial:\n",
    "            table = pd.crosstab(df.superficial_ssi == 1, df[reference] < test)\n",
    "        else:\n",
    "            table = pd.crosstab(df.dummy_ssi == 1, df[reference] < test)\n",
    "    elif op == \"gt\":\n",
    "        if superficial:\n",
    "            table = pd.crosstab(df.superficial_ssi == 1, df[reference] > test)\n",
    "        else:\n",
    "            table = pd.crosstab(df.dummy_ssi == 1, df[reference] > test)\n",
    "    elif op == \"eq\":\n",
    "        if superficial:\n",
    "            table = pd.crosstab(df.superficial_ssi == 1, df[reference] == test)\n",
    "        else:\n",
    "            table = pd.crosstab(df.dummy_ssi == 1, df[reference] == test)\n",
    "    else:\n",
    "        return \"sorry not a valid operation\"\n",
    "    \n",
    "    #print(table)\n",
    "    a = table[0][0]\n",
    "    b = table[0][1]\n",
    "    c = table[1][0]\n",
    "    d = table[1][1]\n",
    "    \n",
    "    #odds ratio\n",
    "    test_odds = d/(c)\n",
    "    ref_odds = b/(a)\n",
    "    OR = test_odds/ref_odds\n",
    "    \n",
    "    #conf intervals\n",
    "    UC = np.exp(np.log(OR)+1.96*(1/a+1/(b)+1/c+1/(d))**.5)\n",
    "    LC = np.exp(np.log(OR)-1.96*(1/a+1/(b)+1/c+1/(d))**.5)\n",
    "    \n",
    "    p_val = fisher_exact(table)[1]\n",
    "    print(reference + \" \" + op + \" \" + str(test))\n",
    "    t = tabulate([[OR, UC,LC,p_val]], headers=['OR', 'UC','LC','p_val'])\n",
    "    return t,p_val\n",
    "'''\n",
    "Variables to test:\n",
    "gender == 'Female'  (gender)\n",
    "injury type   (inj_type)\n",
    "hollow viscus injury (3 way table!) (inj_site)\n",
    "# injured organs (inj_org)\n",
    "Pulse         (pr)\n",
    "# blood units (Bld_unit)\n",
    "Length of Stay (los)\n",
    "VAC wound (wound == 3)\n",
    "Days of antibiotics (days == 2)\n",
    "'''\n",
    "\n",
    "X_cols = ['2_plus_abdays', 'female',\n",
    "       'hollow_visc', 'gunshot', '3_plus_wounds', '120_plus_pulse',\n",
    "       '1_plus_blood', '10_plus_days', 'vac']\n",
    "\n",
    "#For example, SSI for test days >= 10:\n",
    "t,p_val = OR(df,False,\"los\",'gt',9)\n",
    "print(t) #this matches results our friend got"
   ]
  },
  {
   "cell_type": "markdown",
   "metadata": {},
   "source": [
    "### SSI Results:"
   ]
  },
  {
   "cell_type": "code",
   "execution_count": 136,
   "metadata": {
    "collapsed": false
   },
   "outputs": [
    {
     "name": "stdout",
     "output_type": "stream",
     "text": [
      "2_plus_abdays eq 1\n",
      "     OR       UC       LC      p_val\n",
      "-------  -------  -------  ---------\n",
      "2.60965  5.57824  1.22086  0.0147861\n",
      "\n",
      "\n",
      "female eq 1\n",
      "     OR      UC        LC     p_val\n",
      "-------  ------  --------  --------\n",
      "1.42222  4.2192  0.479408  0.552268\n",
      "\n",
      "\n",
      "hollow_visc eq 1\n",
      "     OR       UC        LC     p_val\n",
      "-------  -------  --------  --------\n",
      "1.92344  4.21956  0.876784  0.128434\n",
      "\n",
      "\n",
      "gunshot eq 1\n",
      "     OR       UC        LC     p_val\n",
      "-------  -------  --------  --------\n",
      "2.52823  11.4078  0.560312  0.378168\n",
      "\n",
      "\n",
      "3_plus_wounds eq 1\n",
      "     OR       UC        LC     p_val\n",
      "-------  -------  --------  --------\n",
      "1.75667  3.70656  0.832546  0.173007\n",
      "\n",
      "\n",
      "120_plus_pulse eq 1\n",
      "     OR       UC       LC     p_val\n",
      "-------  -------  -------  --------\n",
      "1.32292  3.89615  0.44919  0.568958\n",
      "\n",
      "\n",
      "1_plus_blood eq 1\n",
      "    OR      UC       LC       p_val\n",
      "------  ------  -------  ----------\n",
      "6.8659  23.494  2.00649  0.00049149\n",
      "\n",
      "\n",
      "10_plus_days eq 1\n",
      "     OR       UC       LC       p_val\n",
      "-------  -------  -------  ----------\n",
      "7.40625  20.1829  2.71778  9.0237e-06\n",
      "\n",
      "\n",
      "vac eq 1\n",
      "     OR      UC      LC       p_val\n",
      "-------  ------  ------  ----------\n",
      "3.31707  7.1019  1.5493  0.00253026\n",
      "\n",
      "\n",
      "['2_plus_abdays', 'hollow_visc', '1_plus_blood', '10_plus_days', 'vac']\n"
     ]
    }
   ],
   "source": [
    "# odds ratios and P-Values\n",
    "sig_vars = []\n",
    "for var in X_cols:\n",
    "    t,p_val = OR(df,False,var,'eq',1)\n",
    "    if p_val < .15:\n",
    "        sig_vars.append(var)\n",
    "    print(t)\n",
    "    print(\"\\n\")\n",
    "print(sig_vars)"
   ]
  },
  {
   "cell_type": "code",
   "execution_count": 114,
   "metadata": {
    "collapsed": false
   },
   "outputs": [
    {
     "name": "stdout",
     "output_type": "stream",
     "text": [
      "Optimization terminated successfully.\n",
      "         Current function value: 0.585322\n",
      "         Iterations 5\n",
      "                           Logit Regression Results                           \n",
      "==============================================================================\n",
      "Dep. Variable:              dummy_ssi   No. Observations:                  178\n",
      "Model:                          Logit   Df Residuals:                      173\n",
      "Method:                           MLE   Df Model:                            4\n",
      "Date:                Fri, 11 Nov 2016   Pseudo R-squ.:                 -0.1808\n",
      "Time:                        17:03:23   Log-Likelihood:                -104.19\n",
      "converged:                       True   LL-Null:                       -88.234\n",
      "                                        LLR p-value:                     1.000\n",
      "=================================================================================\n",
      "                    coef    std err          z      P>|z|      [95.0% Conf. Int.]\n",
      "---------------------------------------------------------------------------------\n",
      "2_plus_abdays    -0.1284      0.371     -0.346      0.729        -0.855     0.598\n",
      "hollow_visc      -0.9372      0.306     -3.066      0.002        -1.536    -0.338\n",
      "1_plus_blood     -1.1195      0.379     -2.956      0.003        -1.862    -0.377\n",
      "10_plus_days      0.6059      0.411      1.476      0.140        -0.199     1.411\n",
      "vac               0.4387      0.403      1.090      0.276        -0.350     1.228\n",
      "=================================================================================\n",
      "ADJUSTED Odds Ratios\n",
      "                   2.5%     97.5%        OR\n",
      "2_plus_abdays  0.425337  1.818548  0.879486\n",
      "hollow_visc    0.215152  0.713182  0.391718\n",
      "1_plus_blood   0.155409  0.685720  0.326446\n",
      "10_plus_days   0.819732  4.098686  1.832982\n",
      "vac            0.704501  3.413558  1.550759\n"
     ]
    }
   ],
   "source": [
    "# Logistic Regression with significant Variables\n",
    "import statsmodels.api as sm\n",
    "\n",
    "\n",
    "logit = sm.Logit(df['dummy_ssi'].astype('int'), df[sig_vars].astype('int'))\n",
    "\n",
    "# fit the model\n",
    "result = logit.fit()\n",
    "print(result.summary())\n",
    "print(\"ADJUSTED Odds Ratios\")\n",
    "params = result.params\n",
    "conf = result.conf_int()\n",
    "conf['OR'] = params\n",
    "conf.columns = ['2.5%', '97.5%', 'OR']\n",
    "print (np.exp(conf))"
   ]
  },
  {
   "cell_type": "code",
   "execution_count": 141,
   "metadata": {
    "collapsed": false
   },
   "outputs": [
    {
     "name": "stdout",
     "output_type": "stream",
     "text": [
      "Adjusted Odds Ratio: \n",
      "\n",
      "  2_plus_abdays    hollow_visc    1_plus_blood    10_plus_days      vac\n",
      "---------------  -------------  --------------  --------------  -------\n",
      "        1.85047          1.662         3.40675         3.67267  1.68025\n"
     ]
    }
   ],
   "source": [
    "import numpy as np\n",
    "from sklearn import linear_model\n",
    "\n",
    "X = df[sig_vars].astype('int')  # we only take the first two features.\n",
    "Y = df['dummy_ssi'].astype('int')\n",
    "\n",
    "h = .02  # step size in the mesh\n",
    "\n",
    "logreg = linear_model.LogisticRegression(C=1e5)\n",
    "\n",
    "# we create an instance of Neighbours Classifier and fit the data.\n",
    "logreg.fit(X, Y)\n",
    "aodds = np.exp(logreg.coef_)\n",
    "t = tabulate(aodds, headers=sig_vars)\n",
    "print(\"Adjusted Odds Ratio: \\n\")\n",
    "print(t)\n"
   ]
  },
  {
   "cell_type": "markdown",
   "metadata": {},
   "source": [
    "### Superficial SSI Results:"
   ]
  },
  {
   "cell_type": "code",
   "execution_count": 142,
   "metadata": {
    "collapsed": false
   },
   "outputs": [
    {
     "name": "stdout",
     "output_type": "stream",
     "text": [
      "2_plus_abdays eq 1\n",
      "    OR       UC       LC       p_val\n",
      "------  -------  -------  ----------\n",
      "4.4494  11.4932  1.72251  0.00202671\n",
      "\n",
      "\n",
      "female eq 1\n",
      "     OR       UC        LC    p_val\n",
      "-------  -------  --------  -------\n",
      "2.07353  6.92374  0.620983   0.2634\n",
      "\n",
      "\n",
      "hollow_visc eq 1\n",
      "     OR       UC        LC     p_val\n",
      "-------  -------  --------  --------\n",
      "1.65116  4.31318  0.632094  0.354944\n",
      "\n",
      "\n",
      "gunshot eq 1\n",
      "     OR       UC        LC    p_val\n",
      "-------  -------  --------  -------\n",
      "1.30797  6.06438  0.282105        1\n",
      "\n",
      "\n",
      "3_plus_wounds eq 1\n",
      "     OR       UC        LC     p_val\n",
      "-------  -------  --------  --------\n",
      "1.28017  3.22213  0.508621  0.636015\n",
      "\n",
      "\n",
      "120_plus_pulse eq 1\n",
      "      OR       UC        LC    p_val\n",
      "--------  -------  --------  -------\n",
      "0.764543  3.54478  0.164897        1\n",
      "\n",
      "\n",
      "1_plus_blood eq 1\n",
      "     OR       UC        LC      p_val\n",
      "-------  -------  --------  ---------\n",
      "3.32673  11.7886  0.938799  0.0813889\n",
      "\n",
      "\n",
      "10_plus_days eq 1\n",
      "     OR       UC       LC       p_val\n",
      "-------  -------  -------  ----------\n",
      "6.39474  22.5829  1.81078  0.00184321\n",
      "\n",
      "\n",
      "vac eq 1\n",
      "   OR       UC        LC      p_val\n",
      "-----  -------  --------  ---------\n",
      "2.354  5.90601  0.938251  0.0854381\n",
      "\n",
      "\n",
      "['2_plus_abdays', '1_plus_blood', '10_plus_days', 'vac']\n"
     ]
    }
   ],
   "source": [
    "# odds ratios and P-Vals\n",
    "# odds ratios and P-Values\n",
    "sig_vars = []\n",
    "for var in X_cols:\n",
    "    t,p_val = OR(df,True,var,'eq',1)\n",
    "    if p_val < .15:\n",
    "        sig_vars.append(var)\n",
    "    print(t)\n",
    "    print(\"\\n\")\n",
    "print(sig_vars)"
   ]
  },
  {
   "cell_type": "code",
   "execution_count": 129,
   "metadata": {
    "collapsed": false
   },
   "outputs": [
    {
     "name": "stdout",
     "output_type": "stream",
     "text": [
      "Optimization terminated successfully.\n",
      "         Current function value: 0.513218\n",
      "         Iterations 6\n",
      "                           Logit Regression Results                           \n",
      "==============================================================================\n",
      "Dep. Variable:        superficial_ssi   No. Observations:                  178\n",
      "Model:                          Logit   Df Residuals:                      174\n",
      "Method:                           MLE   Df Model:                            3\n",
      "Date:                Fri, 11 Nov 2016   Pseudo R-squ.:                 -0.4143\n",
      "Time:                        17:38:47   Log-Likelihood:                -91.353\n",
      "converged:                       True   LL-Null:                       -64.592\n",
      "                                        LLR p-value:                     1.000\n",
      "=================================================================================\n",
      "                    coef    std err          z      P>|z|      [95.0% Conf. Int.]\n",
      "---------------------------------------------------------------------------------\n",
      "2_plus_abdays    -0.1091      0.403     -0.271      0.786        -0.898     0.680\n",
      "1_plus_blood     -1.6885      0.408     -4.135      0.000        -2.489    -0.888\n",
      "10_plus_days     -0.0883      0.421     -0.210      0.834        -0.912     0.736\n",
      "vac               0.1194      0.466      0.256      0.798        -0.794     1.033\n",
      "=================================================================================\n",
      "ADJUSTED Odds Ratios\n",
      "2_plus_abdays    0.896632\n",
      "1_plus_blood     0.184790\n",
      "10_plus_days     0.915507\n",
      "vac              1.126790\n",
      "dtype: float64\n"
     ]
    }
   ],
   "source": [
    "# Logistic Regression with significant Variables\n",
    "#stats model is being wierd! use scikit learn??\n",
    "import statsmodels.api as sm\n",
    "\n",
    "Y = df['superficial_ssi'].astype('int')\n",
    "X = df[sig_vars].astype('int')\n",
    "#print(dummy_df)\n",
    "\n",
    "logit = sm.Logit(Y,X)\n",
    "\n",
    "# fit the model\n",
    "result = logit.fit()\n",
    "print(result.summary())\n",
    "print(\"ADJUSTED Odds Ratios\")\n",
    "print (np.exp(result.params))"
   ]
  },
  {
   "cell_type": "code",
   "execution_count": 143,
   "metadata": {
    "collapsed": false
   },
   "outputs": [
    {
     "name": "stdout",
     "output_type": "stream",
     "text": [
      "Adjusted Odds Ratio: \n",
      "\n",
      "  2_plus_abdays    1_plus_blood    10_plus_days      vac\n",
      "---------------  --------------  --------------  -------\n",
      "        3.29472         1.73162         3.70564  1.25289\n"
     ]
    }
   ],
   "source": [
    "import numpy as np\n",
    "from sklearn import linear_model\n",
    "\n",
    "X = df[sig_vars].astype('int')  # we only take the first two features.\n",
    "Y = df['superficial_ssi'].astype('int')\n",
    "\n",
    "h = .02  # step size in the mesh\n",
    "\n",
    "logreg = linear_model.LogisticRegression(C=1e5)\n",
    "\n",
    "# we create an instance of Neighbours Classifier and fit the data.\n",
    "logreg.fit(X, Y)\n",
    "\n",
    "aodds = np.exp(logreg.coef_)\n",
    "t = tabulate(aodds, headers=sig_vars)\n",
    "print(\"Adjusted Odds Ratio: \\n\")\n",
    "print(t)"
   ]
  }
 ],
 "metadata": {
  "anaconda-cloud": {},
  "kernelspec": {
   "display_name": "Python [Root]",
   "language": "python",
   "name": "Python [Root]"
  },
  "language_info": {
   "codemirror_mode": {
    "name": "ipython",
    "version": 3
   },
   "file_extension": ".py",
   "mimetype": "text/x-python",
   "name": "python",
   "nbconvert_exporter": "python",
   "pygments_lexer": "ipython3",
   "version": "3.5.2"
  }
 },
 "nbformat": 4,
 "nbformat_minor": 0
}
